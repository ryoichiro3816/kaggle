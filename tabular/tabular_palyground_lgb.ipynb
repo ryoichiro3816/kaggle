{
 "cells": [
  {
   "cell_type": "code",
   "execution_count": 4,
   "metadata": {},
   "outputs": [],
   "source": [
    "import pandas as pd\n",
    "import numpy as np\n",
    "import matplotlib.pyplot as plt\n",
    "from sklearn.model_selection import KFold, ParameterGrid, cross_validate, StratifiedKFold\n",
    "from sklearn.preprocessing import StandardScaler, LabelEncoder\n",
    "import lightgbm as lgb\n",
    "from sklearn.metrics import mean_squared_error\n",
    "import optuna\n",
    "from sklearn.metrics import make_scorer"
   ]
  },
  {
   "cell_type": "code",
   "execution_count": 3,
   "metadata": {},
   "outputs": [
    {
     "name": "stdout",
     "output_type": "stream",
     "text": [
      "Collecting optuna\n",
      "  Downloading optuna-2.5.0-py3-none-any.whl (287 kB)\n",
      "\u001b[K     |████████████████████████████████| 287 kB 5.1 MB/s eta 0:00:01\n",
      "\u001b[?25hRequirement already satisfied: tqdm in /opt/anaconda3/lib/python3.7/site-packages (from optuna) (4.42.1)\n",
      "Requirement already satisfied: scipy!=1.4.0 in /opt/anaconda3/lib/python3.7/site-packages (from optuna) (1.4.1)\n",
      "Requirement already satisfied: joblib in /opt/anaconda3/lib/python3.7/site-packages (from optuna) (0.14.1)\n",
      "Requirement already satisfied: numpy in /opt/anaconda3/lib/python3.7/site-packages (from optuna) (1.18.1)\n",
      "Collecting cmaes>=0.6.0\n",
      "  Downloading cmaes-0.8.2-py3-none-any.whl (15 kB)\n",
      "Requirement already satisfied: packaging>=20.0 in /opt/anaconda3/lib/python3.7/site-packages (from optuna) (20.1)\n",
      "Collecting alembic\n",
      "  Downloading alembic-1.5.5.tar.gz (1.2 MB)\n",
      "\u001b[K     |████████████████████████████████| 1.2 MB 19.6 MB/s eta 0:00:01\n",
      "\u001b[?25hCollecting cliff\n",
      "  Downloading cliff-3.7.0-py3-none-any.whl (80 kB)\n",
      "\u001b[K     |████████████████████████████████| 80 kB 10.2 MB/s eta 0:00:01\n",
      "\u001b[?25hRequirement already satisfied: sqlalchemy>=1.1.0 in /opt/anaconda3/lib/python3.7/site-packages (from optuna) (1.3.13)\n",
      "Collecting colorlog\n",
      "  Downloading colorlog-4.7.2-py2.py3-none-any.whl (10 kB)\n",
      "Requirement already satisfied: pyparsing>=2.0.2 in /opt/anaconda3/lib/python3.7/site-packages (from packaging>=20.0->optuna) (2.4.6)\n",
      "Requirement already satisfied: six in /opt/anaconda3/lib/python3.7/site-packages (from packaging>=20.0->optuna) (1.14.0)\n",
      "Collecting Mako\n",
      "  Downloading Mako-1.1.4.tar.gz (479 kB)\n",
      "\u001b[K     |████████████████████████████████| 479 kB 28.1 MB/s eta 0:00:01\n",
      "\u001b[?25hCollecting python-editor>=0.3\n",
      "  Downloading python_editor-1.0.4-py3-none-any.whl (4.9 kB)\n",
      "Requirement already satisfied: python-dateutil in /opt/anaconda3/lib/python3.7/site-packages (from alembic->optuna) (2.8.1)\n",
      "Collecting stevedore>=2.0.1\n",
      "  Downloading stevedore-3.3.0-py3-none-any.whl (49 kB)\n",
      "\u001b[K     |████████████████████████████████| 49 kB 8.6 MB/s  eta 0:00:01\n",
      "\u001b[?25hCollecting pbr!=2.1.0,>=2.0.0\n",
      "  Downloading pbr-5.5.1-py2.py3-none-any.whl (106 kB)\n",
      "\u001b[K     |████████████████████████████████| 106 kB 39.2 MB/s eta 0:00:01\n",
      "\u001b[?25hCollecting cmd2>=1.0.0\n",
      "  Downloading cmd2-1.5.0-py3-none-any.whl (133 kB)\n",
      "\u001b[K     |████████████████████████████████| 133 kB 28.9 MB/s eta 0:00:01\n",
      "\u001b[?25hCollecting PrettyTable>=0.7.2\n",
      "  Downloading prettytable-2.0.0-py3-none-any.whl (22 kB)\n",
      "Requirement already satisfied: PyYAML>=3.12 in /opt/anaconda3/lib/python3.7/site-packages (from cliff->optuna) (5.3)\n",
      "Requirement already satisfied: MarkupSafe>=0.9.2 in /opt/anaconda3/lib/python3.7/site-packages (from Mako->alembic->optuna) (1.1.1)\n",
      "Collecting importlib-metadata>=1.7.0; python_version < \"3.8\"\n",
      "  Downloading importlib_metadata-3.7.0-py3-none-any.whl (11 kB)\n",
      "Requirement already satisfied: colorama>=0.3.7 in /opt/anaconda3/lib/python3.7/site-packages (from cmd2>=1.0.0->cliff->optuna) (0.4.3)\n",
      "Requirement already satisfied: wcwidth>=0.1.7 in /opt/anaconda3/lib/python3.7/site-packages (from cmd2>=1.0.0->cliff->optuna) (0.1.8)\n",
      "Requirement already satisfied: attrs>=16.3.0 in /opt/anaconda3/lib/python3.7/site-packages (from cmd2>=1.0.0->cliff->optuna) (19.3.0)\n",
      "Collecting pyperclip>=1.6\n",
      "  Downloading pyperclip-1.8.2.tar.gz (20 kB)\n",
      "Requirement already satisfied: setuptools in /opt/anaconda3/lib/python3.7/site-packages (from PrettyTable>=0.7.2->cliff->optuna) (45.2.0.post20200210)\n",
      "Collecting typing-extensions>=3.6.4; python_version < \"3.8\"\n",
      "  Downloading typing_extensions-3.7.4.3-py3-none-any.whl (22 kB)\n",
      "Requirement already satisfied: zipp>=0.5 in /opt/anaconda3/lib/python3.7/site-packages (from importlib-metadata>=1.7.0; python_version < \"3.8\"->stevedore>=2.0.1->cliff->optuna) (2.2.0)\n",
      "Building wheels for collected packages: alembic, Mako, pyperclip\n",
      "  Building wheel for alembic (setup.py) ... \u001b[?25ldone\n",
      "\u001b[?25h  Created wheel for alembic: filename=alembic-1.5.5-py2.py3-none-any.whl size=156600 sha256=9dbf31ebfb31fd5c38bbe70cd986430386ad1f8a8bb787bae76fb26c1c67d3eb\n",
      "  Stored in directory: /root/.cache/pip/wheels/ca/d1/c0/4772d4c34e69839059e480c5435916d3b45e4a0c0038f26f5e\n",
      "  Building wheel for Mako (setup.py) ... \u001b[?25ldone\n",
      "\u001b[?25h  Created wheel for Mako: filename=Mako-1.1.4-py2.py3-none-any.whl size=75675 sha256=20139e13b70c949f5109c11a8343c83a40f37527c94c3320ff2dc35f0f8311ca\n",
      "  Stored in directory: /root/.cache/pip/wheels/2a/60/32/02a16820f96c067f6161ef35c21559f8db52c4158d6602b438\n",
      "  Building wheel for pyperclip (setup.py) ... \u001b[?25ldone\n",
      "\u001b[?25h  Created wheel for pyperclip: filename=pyperclip-1.8.2-py3-none-any.whl size=11107 sha256=8fc56332cf4f844710b9fb50840261ae187d738e61cb6692f92b11c000b76155\n",
      "  Stored in directory: /root/.cache/pip/wheels/9f/18/84/8f69f8b08169c7bae2dde6bd7daf0c19fca8c8e500ee620a28\n",
      "Successfully built alembic Mako pyperclip\n",
      "\u001b[31mERROR: pytest-astropy 0.8.0 requires pytest-cov>=2.0, which is not installed.\u001b[0m\n",
      "\u001b[31mERROR: pytest-astropy 0.8.0 requires pytest-filter-subpackage>=0.1, which is not installed.\u001b[0m\n",
      "Installing collected packages: cmaes, Mako, python-editor, alembic, typing-extensions, importlib-metadata, pbr, stevedore, pyperclip, cmd2, PrettyTable, cliff, colorlog, optuna\n",
      "  Attempting uninstall: importlib-metadata\n",
      "    Found existing installation: importlib-metadata 1.5.0\n",
      "    Uninstalling importlib-metadata-1.5.0:\n",
      "      Successfully uninstalled importlib-metadata-1.5.0\n",
      "Successfully installed Mako-1.1.4 PrettyTable-2.0.0 alembic-1.5.5 cliff-3.7.0 cmaes-0.8.2 cmd2-1.5.0 colorlog-4.7.2 importlib-metadata-3.7.0 optuna-2.5.0 pbr-5.5.1 pyperclip-1.8.2 python-editor-1.0.4 stevedore-3.3.0 typing-extensions-3.7.4.3\n",
      "\u001b[33mWARNING: You are using pip version 20.1.1; however, version 21.0.1 is available.\n",
      "You should consider upgrading via the '/opt/anaconda3/bin/python -m pip install --upgrade pip' command.\u001b[0m\n"
     ]
    }
   ],
   "source": [
    "!pip install optuna"
   ]
  },
  {
   "cell_type": "code",
   "execution_count": 5,
   "metadata": {},
   "outputs": [],
   "source": [
    "df_train = pd.read_csv('train.csv')\n",
    "df_test = pd.read_csv('test.csv')"
   ]
  },
  {
   "cell_type": "code",
   "execution_count": 6,
   "metadata": {},
   "outputs": [],
   "source": [
    "def Encode(df):\n",
    "    le = LabelEncoder() \n",
    "    for column in df.select_dtypes('object'):\n",
    "        le.fit(df[column])\n",
    "        df[column]=le.transform(df[column])\n",
    "    \n",
    "    scaler = StandardScaler()\n",
    "    for column in df.select_dtypes('float64'):\n",
    "        scaler.fit(df[column].values.reshape(-1,1))\n",
    "        df[column] = scaler.transform(df[column].values.reshape(-1,1))\n",
    "         \n",
    "    return df"
   ]
  },
  {
   "cell_type": "code",
   "execution_count": 12,
   "metadata": {},
   "outputs": [
    {
     "name": "stderr",
     "output_type": "stream",
     "text": [
      "\u001b[32m[I 2021-02-28 14:17:39,255]\u001b[0m A new study created in memory with name: no-name-d37a98a2-67a1-42dd-9c9c-fb1a40191577\u001b[0m\n",
      "\u001b[32m[I 2021-02-28 14:18:19,626]\u001b[0m Trial 0 finished with value: 0.8445927522492465 and parameters: {'learning_rate': 0.09145012564474751}. Best is trial 0 with value: 0.8445927522492465.\u001b[0m\n",
      "\u001b[32m[I 2021-02-28 14:19:03,146]\u001b[0m Trial 1 finished with value: 0.846292205269016 and parameters: {'learning_rate': 0.029826804435367643}. Best is trial 0 with value: 0.8445927522492465.\u001b[0m\n",
      "\u001b[32m[I 2021-02-28 14:19:46,267]\u001b[0m Trial 2 finished with value: 0.8470767875253757 and parameters: {'learning_rate': 0.025475819256792768}. Best is trial 0 with value: 0.8445927522492465.\u001b[0m\n"
     ]
    },
    {
     "name": "stdout",
     "output_type": "stream",
     "text": [
      "最終トライアル回数:3\n",
      "ベストトライアル:\n",
      "値:0.8445927522492465\n",
      "パラメータ:\n",
      "learning_rate:0.09145012564474751\n"
     ]
    }
   ],
   "source": [
    "#ハイパーパラメーターチューニング＋交差検証\n",
    "\n",
    "def objective(trial):\n",
    "    X_train = df_train.drop('target', axis=1)\n",
    "    y_train = df_train['target']\n",
    "    \n",
    "    X_train = Encode(X_train)\n",
    "    \n",
    "    lgb_params = {\n",
    "        #fixed\n",
    "        'learning_rate':trial.suggest_float(\"learning_rate\", 1e-2, 1e-1, log=True),\n",
    "        'n_estimators': 500,\n",
    "        'metric':'l2',\n",
    "        'max_depth':5,\n",
    "        'boosting_type':'gbdt'\n",
    "\n",
    "#         #variable\n",
    "#         'num_leaves': trial.suggest_int('num_leaves', 10, 300),\n",
    "#         'reg_alpha': trial.suggest_loguniform('reg_alpha',0.001, 10),\n",
    "#         'reg_lambda':trial.suggest_loguniform('reg_lambda', 0.001, 10),\n",
    "\n",
    "    }\n",
    "    \n",
    "    clf = lgb.LGBMRegressor(**lgb_params)\n",
    "    kf = KFold(n_splits=5, random_state=0, shuffle=True)\n",
    "   \n",
    "    def RMSE(y_pred, y_true):\n",
    "        rmse = np.sqrt(mean_squared_error(y_pred,y_true))\n",
    "        \n",
    "        return rmse \n",
    "        \n",
    "    some_funcs ={\n",
    "        'RMSE':make_scorer(RMSE)\n",
    "    }\n",
    "    \n",
    "    scores = cross_validate(clf, X=X_train, y=y_train, cv=kf, scoring=some_funcs)\n",
    "    \n",
    "    return scores['test_RMSE'].mean()\n",
    "\n",
    "study = optuna.create_study(direction=\"minimize\")\n",
    "study.optimize(objective, n_trials=3)\n",
    "lgb_params = study.best_params\n",
    "\n",
    "# 実行結果表示\n",
    "print('最終トライアル回数:{}'.format(len(study.trials)))\n",
    "print('ベストトライアル:')\n",
    "trial = study.best_trial\n",
    "print('値:{}'.format(trial.value))\n",
    "print('パラメータ:')\n",
    "for key, value in trial.params.items():\n",
    "    print('{}:{}'.format(key, value))"
   ]
  },
  {
   "cell_type": "code",
   "execution_count": 15,
   "metadata": {},
   "outputs": [],
   "source": [
    "X_train = df_train.drop('target', axis=1)\n",
    "y_train = df_train['target']\n",
    "X_train = Encode(X_train)\n",
    "X_test = Encode(df_test)\n",
    "\n",
    "clf = lgb.LGBMRegressor(**lgb_params)\n",
    "clf.fit(X_train, y_train)\n",
    "pred_test = clf.predict(X_test)\n",
    "df_sample = pd.read_csv('sample_submission.csv')\n",
    "df_sample['target'] = pred_test\n",
    "df_sample.to_csv('submmit_lgb.csv', index=False)"
   ]
  },
  {
   "cell_type": "code",
   "execution_count": null,
   "metadata": {},
   "outputs": [],
   "source": []
  }
 ],
 "metadata": {
  "kernelspec": {
   "display_name": "Python 3",
   "language": "python",
   "name": "python3"
  },
  "language_info": {
   "codemirror_mode": {
    "name": "ipython",
    "version": 3
   },
   "file_extension": ".py",
   "mimetype": "text/x-python",
   "name": "python",
   "nbconvert_exporter": "python",
   "pygments_lexer": "ipython3",
   "version": "3.7.6"
  }
 },
 "nbformat": 4,
 "nbformat_minor": 4
}
